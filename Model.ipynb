{
 "cells": [
  {
   "cell_type": "code",
   "execution_count": 80,
   "metadata": {},
   "outputs": [],
   "source": [
    "# After we collect the data, we wish to obtain the approximate true underlying phenomenon hidden behind our data. \n",
    "\n",
    "# Therefore, we need to learn a model. There are commonly three different types of \"Learning\". \n",
    "\n",
    "# Firstly, supervised learning, which means for each response variable 'y', \n",
    "# there would be a corresponding independent value 'x'. \n",
    "\n",
    "# Secondly, unsupervised learning, which is the opposite of supervised learning as every response variable 'y', \n",
    "# does not pair a corresponding independent value 'x. \n",
    "\n",
    "# Thirdly, semi-supervised learning, which locates between supervised learning and unsupervised learning. \n",
    "\n",
    "# In other words, for some response variables 'y', there would be a corresponding independent value 'x'. However, others do not.\n",
    "\n",
    "# In our study, we wish to figure out consumer charging behaviour patterns by using some features related to this. \n",
    "\n",
    "# Thus, our group chose 'supervised learning' in the following analysis. \n"
   ]
  },
  {
   "cell_type": "code",
   "execution_count": 81,
   "metadata": {},
   "outputs": [],
   "source": [
    "# In addition, within supervised learning, there are also two main types. \n",
    "\n",
    "# One called 'Regression', the other one called 'Classification'. \n",
    "\n",
    "# The main difference between these two methods is that for regression, we use a continuous response variable, \n",
    "# while for classification, we would use a categorical response variable. \n",
    "\n",
    "# To be more specific, a regression method could solve the problems for example, \n",
    "# 'What would be the rainfall amount for tomorrow?'. \n",
    "# While, for a classification method, it could solve the problem such as 'Does Jack want to drink tea, coffee or cola?'.\n",
    "\n",
    "# In our case, we have lots of categorical response variables. \n",
    "\n",
    "# Thus, in the following analysis, classification would be our main method."
   ]
  },
  {
   "cell_type": "code",
   "execution_count": 82,
   "metadata": {},
   "outputs": [],
   "source": [
    "import numpy as np\n",
    "import pandas as pd\n",
    "import seaborn as sns\n",
    "import matplotlib.pyplot as plt\n",
    "from sklearn.model_selection import train_test_split"
   ]
  },
  {
   "cell_type": "code",
   "execution_count": 83,
   "metadata": {},
   "outputs": [],
   "source": [
    "# Reading data\n",
    "# 'Care with path'\n",
    "# df = pd.read_csv(r\"C:\\Users\\danie\\Desktop\\Projects\\Demola\\dataDemola.csv\")\n",
    "df = pd.read_csv(r\"../dataDemola.csv\")"
   ]
  },
  {
   "cell_type": "code",
   "execution_count": 84,
   "metadata": {},
   "outputs": [
    {
     "data": {
      "text/html": [
       "<div>\n",
       "<style scoped>\n",
       "    .dataframe tbody tr th:only-of-type {\n",
       "        vertical-align: middle;\n",
       "    }\n",
       "\n",
       "    .dataframe tbody tr th {\n",
       "        vertical-align: top;\n",
       "    }\n",
       "\n",
       "    .dataframe thead th {\n",
       "        text-align: right;\n",
       "    }\n",
       "</style>\n",
       "<table border=\"1\" class=\"dataframe\">\n",
       "  <thead>\n",
       "    <tr style=\"text-align: right;\">\n",
       "      <th></th>\n",
       "      <th>ID_Session</th>\n",
       "      <th>Session_Duration</th>\n",
       "      <th>Connection_Time</th>\n",
       "      <th>ID_User</th>\n",
       "      <th>Charging_Speed</th>\n",
       "    </tr>\n",
       "  </thead>\n",
       "  <tbody>\n",
       "    <tr>\n",
       "      <th>0</th>\n",
       "      <td>1</td>\n",
       "      <td>177</td>\n",
       "      <td>176</td>\n",
       "      <td>2</td>\n",
       "      <td>1</td>\n",
       "    </tr>\n",
       "    <tr>\n",
       "      <th>1</th>\n",
       "      <td>2</td>\n",
       "      <td>889</td>\n",
       "      <td>875</td>\n",
       "      <td>4</td>\n",
       "      <td>2</td>\n",
       "    </tr>\n",
       "    <tr>\n",
       "      <th>2</th>\n",
       "      <td>3</td>\n",
       "      <td>567</td>\n",
       "      <td>136</td>\n",
       "      <td>2</td>\n",
       "      <td>2</td>\n",
       "    </tr>\n",
       "    <tr>\n",
       "      <th>3</th>\n",
       "      <td>4</td>\n",
       "      <td>503</td>\n",
       "      <td>604</td>\n",
       "      <td>4</td>\n",
       "      <td>1</td>\n",
       "    </tr>\n",
       "    <tr>\n",
       "      <th>4</th>\n",
       "      <td>5</td>\n",
       "      <td>355</td>\n",
       "      <td>386</td>\n",
       "      <td>2</td>\n",
       "      <td>1</td>\n",
       "    </tr>\n",
       "  </tbody>\n",
       "</table>\n",
       "</div>"
      ],
      "text/plain": [
       "   ID_Session  Session_Duration  Connection_Time  ID_User  Charging_Speed\n",
       "0           1               177              176        2               1\n",
       "1           2               889              875        4               2\n",
       "2           3               567              136        2               2\n",
       "3           4               503              604        4               1\n",
       "4           5               355              386        2               1"
      ]
     },
     "execution_count": 84,
     "metadata": {},
     "output_type": "execute_result"
    }
   ],
   "source": [
    "# First 5 rows of our data\n",
    "df.head()"
   ]
  },
  {
   "cell_type": "code",
   "execution_count": 85,
   "metadata": {},
   "outputs": [
    {
     "data": {
      "text/plain": [
       "(100, 5)"
      ]
     },
     "execution_count": 85,
     "metadata": {},
     "output_type": "execute_result"
    }
   ],
   "source": [
    "# Dataset Dimensions\n",
    "\n",
    "df.shape"
   ]
  },
  {
   "cell_type": "code",
   "execution_count": 86,
   "metadata": {},
   "outputs": [
    {
     "data": {
      "text/plain": [
       "ID_Session          0\n",
       "Session_Duration    0\n",
       "Connection_Time     0\n",
       "ID_User             0\n",
       "Charging_Speed      0\n",
       "dtype: int64"
      ]
     },
     "execution_count": 86,
     "metadata": {},
     "output_type": "execute_result"
    }
   ],
   "source": [
    "# Check Nulls\n",
    "# If there any nulls, look for method to delete that records\n",
    "\n",
    "df.isnull().sum()"
   ]
  },
  {
   "cell_type": "code",
   "execution_count": 87,
   "metadata": {},
   "outputs": [
    {
     "data": {
      "image/png": "[encoded data removed]",
      "text/plain": [
       "<Figure size 432x288 with 1 Axes>"
      ]
     },
     "metadata": {
      "needs_background": "light"
     },
     "output_type": "display_data"
    }
   ],
   "source": [
    "# Show number os sessions by user\n",
    "sns.countplot(x=\"ID_User\", data=df, palette=\"bwr\")\n",
    "plt.show()"
   ]
  },
  {
   "cell_type": "code",
   "execution_count": 88,
   "metadata": {},
   "outputs": [
    {
     "data": {
      "image/png": "[encoded data removed]",
      "text/plain": [
       "<Figure size 432x288 with 1 Axes>"
      ]
     },
     "metadata": {
      "needs_background": "light"
     },
     "output_type": "display_data"
    }
   ],
   "source": [
    "# Show number os sessions by user\n",
    "sns.countplot(x=\"Charging_Speed\", data=df, palette=\"bwr\")\n",
    "plt.show()"
   ]
  },
  {
   "cell_type": "code",
   "execution_count": 89,
   "metadata": {},
   "outputs": [],
   "source": [
    "# Declare feature vector and target variable\n",
    "\n",
    "x = df.drop(['Charging_Speed'], axis=1)\n",
    "y = df['Charging_Speed']"
   ]
  },
  {
   "cell_type": "code",
   "execution_count": 90,
   "metadata": {},
   "outputs": [],
   "source": [
    "# Split data into separate training and test set\n",
    "\n",
    "x_train, x_test, y_train, y_test = train_test_split(x, y, test_size = 0.30, random_state = 42)"
   ]
  },
  {
   "cell_type": "code",
   "execution_count": 91,
   "metadata": {},
   "outputs": [
    {
     "data": {
      "text/plain": [
       "((70, 4), (30, 4))"
      ]
     },
     "execution_count": 91,
     "metadata": {},
     "output_type": "execute_result"
    }
   ],
   "source": [
    "# Shape of x_train and x_test (70/30)\n",
    "\n",
    "x_train.shape, x_test.shape"
   ]
  },
  {
   "cell_type": "code",
   "execution_count": 92,
   "metadata": {},
   "outputs": [],
   "source": [
    "# Import DecisionTreeClassifier\n",
    "\n",
    "from sklearn.tree import DecisionTreeClassifier\n",
    "from sklearn import tree\n",
    "import graphviz "
   ]
  },
  {
   "cell_type": "code",
   "execution_count": 93,
   "metadata": {},
   "outputs": [],
   "source": [
    "# Create DecisionTree\n",
    "# Look for max_depth (ramifications)\n",
    "\n",
    "dt = tree.DecisionTreeClassifier(max_depth=2)\n",
    "dt = dt.fit(x, y)"
   ]
  },
  {
   "cell_type": "code",
   "execution_count": 94,
   "metadata": {},
   "outputs": [],
   "source": [
    "# Define the features, and creathe the graph for DecisionTree\n",
    "\n",
    "dtFeatureNames = list(x.columns)\n",
    "dot_data = tree.export_graphviz(dt, out_file=None, \n",
    "                      feature_names=dtFeatureNames,\n",
    "                      filled=True, rounded=True,  \n",
    "                      special_characters=True)  \n",
    "graph = graphviz.Source(dot_data, format=\"png\") "
   ]
  },
  {
   "cell_type": "code",
   "execution_count": 95,
   "metadata": {},
   "outputs": [
    {
     "data": {
      "image/svg+xml": [
       "<?xml version=\"1.0\" encoding=\"UTF-8\" standalone=\"no\"?>\r\n",
       "<!DOCTYPE svg PUBLIC \"-//W3C//DTD SVG 1.1//EN\"\r\n",
       " \"http://www.w3.org/Graphics/SVG/1.1/DTD/svg11.dtd\">\r\n",
       "<!-- Generated by graphviz version 2.47.1 (20210417.1919)\r\n",
       " -->\r\n",
       "<!-- Title: Tree Pages: 1 -->\r\n",
       "<svg width=\"510pt\" height=\"269pt\"\r\n",
       " viewBox=\"0.00 0.00 510.00 269.00\" xmlns=\"http://www.w3.org/2000/svg\" xmlns:xlink=\"http://www.w3.org/1999/xlink\">\r\n",
       "<g id=\"graph0\" class=\"graph\" transform=\"scale(1 1) rotate(0) translate(4 265)\">\r\n",
       "<title>Tree</title>\r\n",
       "<polygon fill=\"white\" stroke=\"transparent\" points=\"-4,4 -4,-265 506,-265 506,4 -4,4\"/>\r\n",
       "<!-- 0 -->\r\n",
       "<g id=\"node1\" class=\"node\">\r\n",
       "<title>0</title>\r\n",
       "<path fill=\"#fdf5f0\" stroke=\"black\" d=\"M300,-261C300,-261 189,-261 189,-261 183,-261 177,-255 177,-249 177,-249 177,-205 177,-205 177,-199 183,-193 189,-193 189,-193 300,-193 300,-193 306,-193 312,-199 312,-205 312,-205 312,-249 312,-249 312,-255 306,-261 300,-261\"/>\r\n",
       "<text text-anchor=\"start\" x=\"185\" y=\"-245.8\" font-family=\"Helvetica,sans-Serif\" font-size=\"14.00\">ID_Session ≤ 19.5</text>\r\n",
       "<text text-anchor=\"start\" x=\"207\" y=\"-230.8\" font-family=\"Helvetica,sans-Serif\" font-size=\"14.00\">gini = 0.499</text>\r\n",
       "<text text-anchor=\"start\" x=\"197\" y=\"-215.8\" font-family=\"Helvetica,sans-Serif\" font-size=\"14.00\">samples = 100</text>\r\n",
       "<text text-anchor=\"start\" x=\"196\" y=\"-200.8\" font-family=\"Helvetica,sans-Serif\" font-size=\"14.00\">value = [52, 48]</text>\r\n",
       "</g>\r\n",
       "<!-- 1 -->\r\n",
       "<g id=\"node2\" class=\"node\">\r\n",
       "<title>1</title>\r\n",
       "<path fill=\"#f1bb94\" stroke=\"black\" d=\"M235,-157C235,-157 78,-157 78,-157 72,-157 66,-151 66,-145 66,-145 66,-101 66,-101 66,-95 72,-89 78,-89 78,-89 235,-89 235,-89 241,-89 247,-95 247,-101 247,-101 247,-145 247,-145 247,-151 241,-157 235,-157\"/>\r\n",
       "<text text-anchor=\"start\" x=\"74\" y=\"-141.8\" font-family=\"Helvetica,sans-Serif\" font-size=\"14.00\">Connection_Time ≤ 652.0</text>\r\n",
       "<text text-anchor=\"start\" x=\"119\" y=\"-126.8\" font-family=\"Helvetica,sans-Serif\" font-size=\"14.00\">gini = 0.432</text>\r\n",
       "<text text-anchor=\"start\" x=\"113\" y=\"-111.8\" font-family=\"Helvetica,sans-Serif\" font-size=\"14.00\">samples = 19</text>\r\n",
       "<text text-anchor=\"start\" x=\"112\" y=\"-96.8\" font-family=\"Helvetica,sans-Serif\" font-size=\"14.00\">value = [13, 6]</text>\r\n",
       "</g>\r\n",
       "<!-- 0&#45;&gt;1 -->\r\n",
       "<g id=\"edge1\" class=\"edge\">\r\n",
       "<title>0&#45;&gt;1</title>\r\n",
       "<path fill=\"none\" stroke=\"black\" d=\"M215.93,-192.88C208.24,-183.98 199.84,-174.24 191.84,-164.96\"/>\r\n",
       "<polygon fill=\"black\" stroke=\"black\" points=\"194.41,-162.58 185.23,-157.3 189.11,-167.16 194.41,-162.58\"/>\r\n",
       "<text text-anchor=\"middle\" x=\"183.39\" y=\"-178.53\" font-family=\"Helvetica,sans-Serif\" font-size=\"14.00\">True</text>\r\n",
       "</g>\r\n",
       "<!-- 4 -->\r\n",
       "<g id=\"node5\" class=\"node\">\r\n",
       "<title>4</title>\r\n",
       "<path fill=\"#f1f8fd\" stroke=\"black\" d=\"M388,-157C388,-157 277,-157 277,-157 271,-157 265,-151 265,-145 265,-145 265,-101 265,-101 265,-95 271,-89 277,-89 277,-89 388,-89 388,-89 394,-89 400,-95 400,-101 400,-101 400,-145 400,-145 400,-151 394,-157 388,-157\"/>\r\n",
       "<text text-anchor=\"start\" x=\"273\" y=\"-141.8\" font-family=\"Helvetica,sans-Serif\" font-size=\"14.00\">ID_Session ≤ 40.5</text>\r\n",
       "<text text-anchor=\"start\" x=\"295\" y=\"-126.8\" font-family=\"Helvetica,sans-Serif\" font-size=\"14.00\">gini = 0.499</text>\r\n",
       "<text text-anchor=\"start\" x=\"289\" y=\"-111.8\" font-family=\"Helvetica,sans-Serif\" font-size=\"14.00\">samples = 81</text>\r\n",
       "<text text-anchor=\"start\" x=\"284\" y=\"-96.8\" font-family=\"Helvetica,sans-Serif\" font-size=\"14.00\">value = [39, 42]</text>\r\n",
       "</g>\r\n",
       "<!-- 0&#45;&gt;4 -->\r\n",
       "<g id=\"edge4\" class=\"edge\">\r\n",
       "<title>0&#45;&gt;4</title>\r\n",
       "<path fill=\"none\" stroke=\"black\" d=\"M273.07,-192.88C280.76,-183.98 289.16,-174.24 297.16,-164.96\"/>\r\n",
       "<polygon fill=\"black\" stroke=\"black\" points=\"299.89,-167.16 303.77,-157.3 294.59,-162.58 299.89,-167.16\"/>\r\n",
       "<text text-anchor=\"middle\" x=\"305.61\" y=\"-178.53\" font-family=\"Helvetica,sans-Serif\" font-size=\"14.00\">False</text>\r\n",
       "</g>\r\n",
       "<!-- 2 -->\r\n",
       "<g id=\"node3\" class=\"node\">\r\n",
       "<title>2</title>\r\n",
       "<path fill=\"#ea9a61\" stroke=\"black\" d=\"M93,-53C93,-53 12,-53 12,-53 6,-53 0,-47 0,-41 0,-41 0,-12 0,-12 0,-6 6,0 12,0 12,0 93,0 93,0 99,0 105,-6 105,-12 105,-12 105,-41 105,-41 105,-47 99,-53 93,-53\"/>\r\n",
       "<text text-anchor=\"start\" x=\"15\" y=\"-37.8\" font-family=\"Helvetica,sans-Serif\" font-size=\"14.00\">gini = 0.278</text>\r\n",
       "<text text-anchor=\"start\" x=\"9\" y=\"-22.8\" font-family=\"Helvetica,sans-Serif\" font-size=\"14.00\">samples = 12</text>\r\n",
       "<text text-anchor=\"start\" x=\"8\" y=\"-7.8\" font-family=\"Helvetica,sans-Serif\" font-size=\"14.00\">value = [10, 2]</text>\r\n",
       "</g>\r\n",
       "<!-- 1&#45;&gt;2 -->\r\n",
       "<g id=\"edge2\" class=\"edge\">\r\n",
       "<title>1&#45;&gt;2</title>\r\n",
       "<path fill=\"none\" stroke=\"black\" d=\"M120.13,-88.95C109.86,-79.62 98.69,-69.47 88.45,-60.16\"/>\r\n",
       "<polygon fill=\"black\" stroke=\"black\" points=\"90.58,-57.37 80.82,-53.24 85.87,-62.55 90.58,-57.37\"/>\r\n",
       "</g>\r\n",
       "<!-- 3 -->\r\n",
       "<g id=\"node4\" class=\"node\">\r\n",
       "<title>3</title>\r\n",
       "<path fill=\"#cee6f8\" stroke=\"black\" d=\"M208,-53C208,-53 135,-53 135,-53 129,-53 123,-47 123,-41 123,-41 123,-12 123,-12 123,-6 129,0 135,0 135,0 208,0 208,0 214,0 220,-6 220,-12 220,-12 220,-41 220,-41 220,-47 214,-53 208,-53\"/>\r\n",
       "<text text-anchor=\"start\" x=\"138\" y=\"-37.8\" font-family=\"Helvetica,sans-Serif\" font-size=\"14.00\">gini = 0.49</text>\r\n",
       "<text text-anchor=\"start\" x=\"132\" y=\"-22.8\" font-family=\"Helvetica,sans-Serif\" font-size=\"14.00\">samples = 7</text>\r\n",
       "<text text-anchor=\"start\" x=\"131\" y=\"-7.8\" font-family=\"Helvetica,sans-Serif\" font-size=\"14.00\">value = [3, 4]</text>\r\n",
       "</g>\r\n",
       "<!-- 1&#45;&gt;3 -->\r\n",
       "<g id=\"edge3\" class=\"edge\">\r\n",
       "<title>1&#45;&gt;3</title>\r\n",
       "<path fill=\"none\" stroke=\"black\" d=\"M161.75,-88.95C163.07,-80.62 164.49,-71.65 165.83,-63.2\"/>\r\n",
       "<polygon fill=\"black\" stroke=\"black\" points=\"169.3,-63.66 167.41,-53.24 162.39,-62.56 169.3,-63.66\"/>\r\n",
       "</g>\r\n",
       "<!-- 5 -->\r\n",
       "<g id=\"node6\" class=\"node\">\r\n",
       "<title>5</title>\r\n",
       "<path fill=\"#88c4ef\" stroke=\"black\" d=\"M359,-53C359,-53 278,-53 278,-53 272,-53 266,-47 266,-41 266,-41 266,-12 266,-12 266,-6 272,0 278,0 278,0 359,0 359,0 365,0 371,-6 371,-12 371,-12 371,-41 371,-41 371,-47 365,-53 359,-53\"/>\r\n",
       "<text text-anchor=\"start\" x=\"281\" y=\"-37.8\" font-family=\"Helvetica,sans-Serif\" font-size=\"14.00\">gini = 0.408</text>\r\n",
       "<text text-anchor=\"start\" x=\"275\" y=\"-22.8\" font-family=\"Helvetica,sans-Serif\" font-size=\"14.00\">samples = 21</text>\r\n",
       "<text text-anchor=\"start\" x=\"274\" y=\"-7.8\" font-family=\"Helvetica,sans-Serif\" font-size=\"14.00\">value = [6, 15]</text>\r\n",
       "</g>\r\n",
       "<!-- 4&#45;&gt;5 -->\r\n",
       "<g id=\"edge5\" class=\"edge\">\r\n",
       "<title>4&#45;&gt;5</title>\r\n",
       "<path fill=\"none\" stroke=\"black\" d=\"M327.6,-88.95C326.37,-80.62 325.04,-71.65 323.79,-63.2\"/>\r\n",
       "<polygon fill=\"black\" stroke=\"black\" points=\"327.24,-62.62 322.31,-53.24 320.32,-63.64 327.24,-62.62\"/>\r\n",
       "</g>\r\n",
       "<!-- 6 -->\r\n",
       "<g id=\"node7\" class=\"node\">\r\n",
       "<title>6</title>\r\n",
       "<path fill=\"#fae8db\" stroke=\"black\" d=\"M490,-53C490,-53 401,-53 401,-53 395,-53 389,-47 389,-41 389,-41 389,-12 389,-12 389,-6 395,0 401,0 401,0 490,0 490,0 496,0 502,-6 502,-12 502,-12 502,-41 502,-41 502,-47 496,-53 490,-53\"/>\r\n",
       "<text text-anchor=\"start\" x=\"408\" y=\"-37.8\" font-family=\"Helvetica,sans-Serif\" font-size=\"14.00\">gini = 0.495</text>\r\n",
       "<text text-anchor=\"start\" x=\"402\" y=\"-22.8\" font-family=\"Helvetica,sans-Serif\" font-size=\"14.00\">samples = 60</text>\r\n",
       "<text text-anchor=\"start\" x=\"397\" y=\"-7.8\" font-family=\"Helvetica,sans-Serif\" font-size=\"14.00\">value = [33, 27]</text>\r\n",
       "</g>\r\n",
       "<!-- 4&#45;&gt;6 -->\r\n",
       "<g id=\"edge6\" class=\"edge\">\r\n",
       "<title>4&#45;&gt;6</title>\r\n",
       "<path fill=\"none\" stroke=\"black\" d=\"M372.02,-88.95C383.29,-79.53 395.55,-69.27 406.77,-59.89\"/>\r\n",
       "<polygon fill=\"black\" stroke=\"black\" points=\"409.3,-62.34 414.72,-53.24 404.81,-56.97 409.3,-62.34\"/>\r\n",
       "</g>\r\n",
       "</g>\r\n",
       "</svg>\r\n"
      ],
      "text/plain": [
       "<graphviz.files.Source at 0x1c4aae3b9a0>"
      ]
     },
     "execution_count": 95,
     "metadata": {},
     "output_type": "execute_result"
    }
   ],
   "source": [
    "graph"
   ]
  },
  {
   "cell_type": "code",
   "execution_count": 96,
   "metadata": {},
   "outputs": [
    {
     "name": "stdout",
     "output_type": "stream",
     "text": [
      "---Scores:---\n",
      "Accuracy: 0.733\n",
      "Precision: 0.762\n"
     ]
    }
   ],
   "source": [
    "# Accuracy & Precision\n",
    "\n",
    "from sklearn.metrics import accuracy_score, precision_score\n",
    "y_pred=dt.predict(x_test)\n",
    "print('---Scores:---')\n",
    "print('Accuracy: %.3f' % accuracy_score(y_test, y_pred))\n",
    "print('Precision: %.3f' % precision_score(y_test, y_pred))"
   ]
  },
  {
   "cell_type": "code",
   "execution_count": 97,
   "metadata": {},
   "outputs": [
    {
     "data": {
      "image/png": "[encoded data removed]",
      "text/plain": [
       "<Figure size 432x288 with 2 Axes>"
      ]
     },
     "metadata": {
      "needs_background": "light"
     },
     "output_type": "display_data"
    }
   ],
   "source": [
    "# Confusion Matrix\n",
    "\n",
    "from sklearn.metrics import plot_confusion_matrix\n",
    "disp_confusion_matrix = plot_confusion_matrix (dt, x_test, y_test, cmap=plt.cm.Blues)"
   ]
  },
  {
   "cell_type": "code",
   "execution_count": 98,
   "metadata": {},
   "outputs": [],
   "source": [
    "# Define New Input to Predict\n",
    "\n",
    "new_input = [[101, 100, 400, 3]]"
   ]
  },
  {
   "cell_type": "code",
   "execution_count": 99,
   "metadata": {},
   "outputs": [],
   "source": [
    "# Get Prediction for new Input\n",
    "\n",
    "new_output = dt.predict(new_input)"
   ]
  },
  {
   "cell_type": "code",
   "execution_count": 100,
   "metadata": {},
   "outputs": [
    {
     "name": "stdout",
     "output_type": "stream",
     "text": [
      "[[101, 100, 400, 3]] [1]\n"
     ]
    }
   ],
   "source": [
    "# Summarize Input and Output\n",
    "print(new_input, new_output)"
   ]
  },
  {
   "cell_type": "code",
   "execution_count": 101,
   "metadata": {},
   "outputs": [],
   "source": [
    "# Define New Input2 to Predict\n",
    "\n",
    "new_input2 = [[40, 100, 800, 3]]"
   ]
  },
  {
   "cell_type": "code",
   "execution_count": 102,
   "metadata": {},
   "outputs": [],
   "source": [
    "# Get Prediction for new Input2\n",
    "\n",
    "new_output2 = dt.predict(new_input2)"
   ]
  },
  {
   "cell_type": "code",
   "execution_count": 103,
   "metadata": {},
   "outputs": [
    {
     "name": "stdout",
     "output_type": "stream",
     "text": [
      "[[40, 100, 800, 3]] [2]\n"
     ]
    }
   ],
   "source": [
    "# Summarize Input2 and Output2\n",
    "\n",
    "print(new_input2, new_output2)"
   ]
  },
  {
   "cell_type": "code",
   "execution_count": null,
   "metadata": {},
   "outputs": [],
   "source": []
  }
 ],
 "metadata": {
  "kernelspec": {
   "display_name": "Python 3",
   "language": "python",
   "name": "python3"
  },
  "language_info": {
   "codemirror_mode": {
    "name": "ipython",
    "version": 3
   },
   "file_extension": ".py",
   "mimetype": "text/x-python",
   "name": "python",
   "nbconvert_exporter": "python",
   "pygments_lexer": "ipython3",
   "version": "3.8.5"
  }
 },
 "nbformat": 4,
 "nbformat_minor": 4
}
